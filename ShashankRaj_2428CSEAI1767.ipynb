{
  "nbformat": 4,
  "nbformat_minor": 0,
  "metadata": {
    "colab": {
      "provenance": []
    },
    "kernelspec": {
      "name": "python3",
      "display_name": "Python 3"
    },
    "language_info": {
      "name": "python"
    }
  },
  "cells": [
    {
      "cell_type": "code",
      "execution_count": 4,
      "metadata": {
        "colab": {
          "base_uri": "https://localhost:8080/"
        },
        "id": "f6m1SiqXjiRW",
        "outputId": "866f140e-6d16-441a-8473-1e40b9fb85a7"
      },
      "outputs": [
        {
          "output_type": "stream",
          "name": "stdout",
          "text": [
            "Path: [(1, 0), (2, 0), (3, 0), (4, 0), (4, 1), (4, 2), (4, 3), (4, 4), (0, 0)]\n"
          ]
        }
      ],
      "source": [
        "import heapq  # Importing heapq for priority queue operations\n",
        "\n",
        "# Function to calculate the heuristic (Manhattan Distance) between two points\n",
        "def heuristic(a, b):\n",
        "    return abs(a[0] - b[0]) + abs(a[1] - b[1])\n",
        "\n",
        "# A* Algorithm implementation\n",
        "def astar(grid, start, goal):\n",
        "    open_set = [(0, start)]  # Priority queue initialized with start node\n",
        "    came_from, g_score = {}, {start: 0}  # Tracking paths and cost from start\n",
        "\n",
        "    while open_set:\n",
        "        _, current = heapq.heappop(open_set)  # Get node with lowest f-score\n",
        "\n",
        "        if current == goal:  # If goal is reached, reconstruct path\n",
        "            path = []\n",
        "            while current in came_from:\n",
        "                path.append(current)\n",
        "                current = came_from[current]\n",
        "            return path[::-1] + [start]  # Return reversed path including start\n",
        "\n",
        "        # Possible movement directions (Right, Down, Left, Up)\n",
        "        for dx, dy in [(0,1), (1,0), (0,-1), (-1,0)]:\n",
        "            neighbor = (current[0] + dx, current[1] + dy)\n",
        "\n",
        "            # Check if neighbor is within grid bounds and is walkable (0 = open, 1 = obstacle)\n",
        "            if neighbor in g_score or not (0 <= neighbor[0] < len(grid) and 0 <= neighbor[1] < len(grid[0]) and grid[neighbor[0]][neighbor[1]] == 0):\n",
        "                continue  # Skip if already visited or not walkable\n",
        "\n",
        "            came_from[neighbor] = current  # Store the path\n",
        "            g_score[neighbor] = g_score[current] + 1  # Update cost from start\n",
        "\n",
        "            # Push neighbor into priority queue with its f-score (g + h)\n",
        "            heapq.heappush(open_set, (g_score[neighbor] + heuristic(neighbor, goal), neighbor))\n",
        "\n",
        "    return None  # No path found\n",
        "\n",
        "# Grid representation (0 = walkable, 1 = obstacle)\n",
        "grid = [\n",
        "    [0, 1, 0, 0, 0],\n",
        "    [0, 1, 0, 1, 0],\n",
        "    [0, 0, 0, 1, 0],\n",
        "    [0, 1, 1, 1, 0],\n",
        "    [0, 0, 0, 0, 0]\n",
        "]\n",
        "\n",
        "# Running the A* algorithm from (0,0) to (4,4) and printing the path\n",
        "print(\"Path:\", astar(grid, (0, 0), (4, 4)))\n"
      ]
    }
  ]
}